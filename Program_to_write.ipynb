{
 "cells": [
  {
   "cell_type": "code",
   "execution_count": null,
   "metadata": {},
   "outputs": [],
   "source": []
  },
  {
   "cell_type": "code",
   "execution_count": null,
   "metadata": {},
   "outputs": [],
   "source": []
  },
  {
   "cell_type": "code",
   "execution_count": 1,
   "metadata": {},
   "outputs": [
    {
     "name": "stdout",
     "output_type": "stream",
     "text": [
      "Number of sentences: 4\n",
      "Number of words: 31\n",
      "Number of syllables: 52\n",
      "Flesch Reading Ease score: 57.06\n",
      "Flesch-Kincaid Grade Level: 7.23\n"
     ]
    }
   ],
   "source": [
    "import re\n",
    "\n",
    "def count_syllables(word):\n",
    "    word = word.lower()\n",
    "    syllable_count = 0\n",
    "    vowels = \"aeiouy\"\n",
    "    if word[0] in vowels:\n",
    "        syllable_count += 1\n",
    "    for index in range(1, len(word)):\n",
    "        if word[index] in vowels and word[index - 1] not in vowels:\n",
    "            syllable_count += 1\n",
    "    if word.endswith(\"e\"):\n",
    "        syllable_count -= 1\n",
    "    if word.endswith(\"le\") and len(word) > 2 and word[-3] not in vowels:\n",
    "        syllable_count += 1\n",
    "    if syllable_count == 0:\n",
    "        syllable_count += 1\n",
    "    return syllable_count\n",
    "\n",
    "def analyze_readability(text):\n",
    "    sentences = re.split(r'[.!?]', text)\n",
    "    words = re.findall(r'\\b\\w+\\b', text)\n",
    "    syllables = sum(count_syllables(word) for word in words)\n",
    "\n",
    "    num_sentences = len(sentences)\n",
    "    num_words = len(words)\n",
    "    num_syllables = syllables\n",
    "\n",
    "    if num_sentences == 0:\n",
    "        num_sentences = 1  # Avoid division by zero\n",
    "\n",
    "    # Flesch Reading Ease\n",
    "    ASL = num_words / num_sentences  # Average Sentence Length\n",
    "    ASW = num_syllables / num_words  # Average Syllables per Word\n",
    "    flesch_reading_ease = 206.835 - 1.015 * ASL - 84.6 * ASW\n",
    "\n",
    "    # Flesch-Kincaid Grade Level\n",
    "    flesch_kincaid_grade = 0.39 * ASL + 11.8 * ASW - 15.59\n",
    "\n",
    "    return {\n",
    "        'num_sentences': num_sentences,\n",
    "        'num_words': num_words,\n",
    "        'num_syllables': num_syllables,\n",
    "        'flesch_reading_ease': flesch_reading_ease,\n",
    "        'flesch_kincaid_grade': flesch_kincaid_grade\n",
    "    }\n",
    "\n",
    "# Example usage\n",
    "text = \"\"\"Your text goes here. This is a sample text to demonstrate readability analysis.\n",
    "The readability scores will help you understand how easy or difficult it is to read the given text.\"\"\"\n",
    "readability_scores = analyze_readability(text)\n",
    "\n",
    "print(f\"Number of sentences: {readability_scores['num_sentences']}\")\n",
    "print(f\"Number of words: {readability_scores['num_words']}\")\n",
    "print(f\"Number of syllables: {readability_scores['num_syllables']}\")\n",
    "print(f\"Flesch Reading Ease score: {readability_scores['flesch_reading_ease']:.2f}\")\n",
    "print(f\"Flesch-Kincaid Grade Level: {readability_scores['flesch_kincaid_grade']:.2f}\")\n"
   ]
  },
  {
   "cell_type": "code",
   "execution_count": 23,
   "metadata": {},
   "outputs": [
    {
     "name": "stdout",
     "output_type": "stream",
     "text": [
      "Dale-Chall Readability Score: 0.55\n",
      "Gunning Fog Index: 4.40\n"
     ]
    }
   ],
   "source": [
    "import textstat\n",
    "\n",
    "# Example text\n",
    "text = \"\"\"The absurdity of the analysis is pararelevant in the context of the current \n",
    "mystification of sentences.\"\"\"\n",
    "\n",
    "text = \"She went to the sink and drank a glass of water.\"\n",
    "\n",
    "# Compute various readability scores\n",
    "scores = {\n",
    "    \"Dale-Chall Readability Score\": textstat.dale_chall_readability_score(text),\n",
    "    #\"Flesch Reading Ease\": textstat.flesch_reading_ease(text),\n",
    "    #\"Flesch-Kincaid Grade Level\": textstat.flesch_kincaid_grade(text),\n",
    "    \"Gunning Fog Index\": textstat.gunning_fog(text),\n",
    "    #\"SMOG Index\": textstat.smog_index(text),\n",
    "    #\"Automated Readability Index\": textstat.automated_readability_index(text),\n",
    "}\n",
    "\n",
    "# Print the results\n",
    "for score_name, score_value in scores.items():\n",
    "    print(f\"{score_name}: {score_value:.2f}\")\n"
   ]
  },
  {
   "cell_type": "code",
   "execution_count": null,
   "metadata": {},
   "outputs": [],
   "source": []
  },
  {
   "cell_type": "code",
   "execution_count": 9,
   "metadata": {},
   "outputs": [
    {
     "name": "stderr",
     "output_type": "stream",
     "text": [
      "[nltk_data] Downloading package punkt to /Users/au701203/nltk_data...\n",
      "[nltk_data]   Package punkt is already up-to-date!\n",
      "[nltk_data] Downloading package averaged_perceptron_tagger to\n",
      "[nltk_data]     /Users/au701203/nltk_data...\n",
      "[nltk_data]   Package averaged_perceptron_tagger is already up-to-\n",
      "[nltk_data]       date!\n"
     ]
    },
    {
     "data": {
      "text/plain": [
       "True"
      ]
     },
     "execution_count": 9,
     "metadata": {},
     "output_type": "execute_result"
    }
   ],
   "source": [
    "import nltk\n",
    "nltk.download('punkt')\n",
    "nltk.download('averaged_perceptron_tagger')"
   ]
  },
  {
   "cell_type": "code",
   "execution_count": 64,
   "metadata": {},
   "outputs": [
    {
     "name": "stdout",
     "output_type": "stream",
     "text": [
      "Noun count: 2\n",
      "Adjective count: 1\n",
      "Verb count: 5\n",
      "Verbs ratio / (Nouns + Adjectives): 1.67\n"
     ]
    }
   ],
   "source": [
    "import nltk\n",
    "from nltk import pos_tag\n",
    "from nltk.tokenize import word_tokenize\n",
    "\n",
    "def calculate_pos_ratio(words):    \n",
    "    # Perform POS tagging\n",
    "    tagged_words = pos_tag(words)\n",
    "    \n",
    "    # Count nouns, adjectives, and verbs\n",
    "    noun_count = sum(1 for word, pos in tagged_words if pos.startswith('NN'))\n",
    "    adjective_count = sum(1 for word, pos in tagged_words if pos.startswith('JJ'))\n",
    "    verb_count = sum(1 for word, pos in tagged_words if pos.startswith('VB'))\n",
    "    \n",
    "    # Calculate the ratio (nouns + adjectives) / verbs\n",
    "    if verb_count == 0:\n",
    "        ratio = float('inf')  # Handle division by zero if there are no verbs\n",
    "    else:\n",
    "        ratio = verb_count / (noun_count + adjective_count) \n",
    "    \n",
    "    return {\n",
    "        'noun_count': noun_count,\n",
    "        'adjective_count': adjective_count,\n",
    "        'verb_count': verb_count,\n",
    "        'ratio': ratio\n",
    "    }\n",
    "\n",
    "# Example usage\n",
    "text = \"\"\"Your text goes here. This is an example text to demonstrate PoS tagging and ratio calculation.\"\"\"\n",
    "\n",
    "text = \"We ran and climbed and scuddled and hiked until we reached the pretty mountain top\"\n",
    "\n",
    "words = word_tokenize(text)\n",
    "result = calculate_pos_ratio(words)\n",
    "\n",
    "print(f\"Noun count: {result['noun_count']}\")\n",
    "print(f\"Adjective count: {result['adjective_count']}\")\n",
    "print(f\"Verb count: {result['verb_count']}\")\n",
    "print(f\"Verbs ratio / (Nouns + Adjectives): {result['ratio']:.2f}\")\n"
   ]
  },
  {
   "cell_type": "code",
   "execution_count": 60,
   "metadata": {},
   "outputs": [
    {
     "name": "stdout",
     "output_type": "stream",
     "text": [
      "{'pos_ratio': {'noun_count': 5, 'adjective_count': 0, 'verb_count': 3, 'ratio': 0.6}, 'fog': 11.83, 'dale_chall': 10.03}\n"
     ]
    }
   ],
   "source": [
    "# Now I want a function that returns the (nouns+adjectives)/verbs ratio\n",
    "# and (as well as) two readabilities: the FOG and the dale-chall\n",
    "\n",
    "def analyze_text(text):\n",
    "\n",
    "    # Tokenize the text into words\n",
    "    words = word_tokenize(text)\n",
    "\n",
    "\n",
    "    # Calculate the (nouns + adjectives) / verbs ratio\n",
    "    pos_ratio = calculate_pos_ratio(words)\n",
    "    \n",
    "    # Compute the FOG and Dale-Chall readability scores\n",
    "    fog = textstat.gunning_fog(text)\n",
    "    dale_chall = textstat.dale_chall_readability_score(text)\n",
    "    \n",
    "    return {\n",
    "        'pos_ratio': pos_ratio,\n",
    "        'fog': fog,\n",
    "        'dale_chall': dale_chall\n",
    "    }\n",
    "\n",
    "# Example usage\n",
    "text = \"\"\"Your text goes here. This is an example text to demonstrate readability analysis.\"\"\"\n",
    "\n",
    "result = analyze_text(text)\n",
    "print(result)"
   ]
  },
  {
   "cell_type": "code",
   "execution_count": 37,
   "metadata": {},
   "outputs": [],
   "source": [
    "gemini1 = \"\"\"Sergei gripped his rifle, the cold metal biting into his calloused hands. He wasn't Estonian, but the promise of a worker's paradise had lured him to fight alongside the Bolsheviks. In the frozen trenches near Narva, he squinted through the swirling snow, spotting the enemy - Estonian farmers and students defending their newfound freedom. A pang of guilt hit him as he raised his weapon. Were these not the same oppressed masses he was supposed to be liberating? Yet, the propaganda echoed in his ears, drowning out his doubts. With a cry, he charged forward, another pawn in the bloody chess game of revolution.\"\"\"\n",
    "gemini2 = \"\"\"Nikolai gripped his Mosin-Nagant, the cold metal biting into his gloveless hands. The Estonian snow crunched under his worn boots as he advanced with his Red Army comrades. A fervent Bolshevik, he believed their cause would bring equality and liberation to the oppressed masses. Yet, as they neared the Estonian lines, doubt crept in. The faces of the \"enemy\" were not so different from his own - young men, scared and shivering. A stray bullet whizzed past, snapping him back to reality. He raised his rifle, the image of his starving family flashing before his eyes, fueling his resolve. With a heavy heart, he squeezed the trigger, the deafening roar echoing the turmoil within.\"\"\"\n",
    "gemini3 = \"\"\"Sergei gripped his rifle, the cold metal biting into his calloused hands. The Estonian forest was a labyrinth of shadows, the air thick with the scent of pine and the metallic tang of blood. He was a Red Rifleman, a Bolshevik fighting for the revolution, yet his heart ached for his Latvian home. Every crack of a twig, every rustle of leaves sent a jolt of fear through him, a fear he masked with a stoic face. He believed in the cause, in the promise of a new world, but the relentless march of death and the sight of young men, barely out of boyhood, falling to Estonian bullets, gnawed at his resolve. The echo of gunfire shattered the silence, a chilling reminder that the fight for independence raged on, and he was but a pawn in a bloody game.\"\"\""
   ]
  },
  {
   "cell_type": "code",
   "execution_count": 38,
   "metadata": {},
   "outputs": [],
   "source": [
    "gemini4 = \"\"\"Nikolai, a young laborer from Petrograd, had been swept up in the fervor of the revolution. His heart swelled with the promise of a worker's paradise, and he found himself fighting alongside the Red Army during the Estonian War of Independence. The harsh Estonian winter chilled him to the bone as he patrolled the snowy forests, rifle clutched in his numb hands. He missed his family dearly, but the dream of a brighter future for them fueled his determination. Each gunshot echoed through the trees, a grim reminder of the cost of their ideals. Yet, doubt gnawed at Nikolai's mind as he witnessed the brutality of war and the suffering it inflicted on both sides. The dream of a worker's paradise seemed to fade with each fallen comrade, leaving him questioning if the fight was truly worth the sacrifice. \"\"\"\n",
    "gemini5 = \"\"\"Ivan clutched his rifle, the cold metal a stark contrast to the burning fervor in his heart. He was a true believer, a son of the revolution, fighting for a world free from the chains of capitalist oppression. The Estonian forest was a maze of shadows and whispers, where death could come from any direction. Yet, Ivan pressed on, his resolve fueled by the dream of a socialist utopia. But as the days turned into weeks, the war's brutality gnawed at his ideals. He saw the suffering of civilians, the senseless violence, and the growing disillusionment in his comrades' eyes. The glorious revolution he envisioned seemed a distant dream, replaced by the harsh realities of war. Still, he fought on, clinging to the last shreds of his belief, even as doubt crept into his soul.\"\"\"\n",
    "gemini6 = \"\"\"Sergei gripped his rifle, the cold metal biting into his calloused hands. He was a farmer, not a soldier, but the revolution had swept him up in its fervor. Now, he fought for the Bolsheviks, believing in a world without landowners and tsars. The Estonian forest was a labyrinth of shadows and gunfire, each crack echoing the uncertainty in his heart. He had seen the brutality of both sides, the idealism of the revolution replaced with the grim reality of war. Yet, he pressed on, fueled by a desperate hope for a better future, even as he questioned if he was on the right side of history.\"\"\""
   ]
  },
  {
   "cell_type": "code",
   "execution_count": 39,
   "metadata": {},
   "outputs": [],
   "source": [
    "# for each text, I want the analyze_text test\n",
    "g1 = analyze_text(gemini1)\n",
    "g2 = analyze_text(gemini2)\n",
    "g3 = analyze_text(gemini3)"
   ]
  },
  {
   "cell_type": "code",
   "execution_count": 40,
   "metadata": {},
   "outputs": [
    {
     "name": "stdout",
     "output_type": "stream",
     "text": [
      "Noun ratio comparison:\n",
      "Gemini 1: 0.45\n",
      "Gemini 2: 0.47\n",
      "Gemini 3: 0.24\n"
     ]
    }
   ],
   "source": [
    "# first, compare the texts by noun ratio\n",
    "print(\"Noun ratio comparison:\")\n",
    "print(f\"Gemini 1: {g1['pos_ratio']['ratio']:.2f}\")\n",
    "print(f\"Gemini 2: {g2['pos_ratio']['ratio']:.2f}\")\n",
    "print(f\"Gemini 3: {g3['pos_ratio']['ratio']:.2f}\")\n"
   ]
  },
  {
   "cell_type": "code",
   "execution_count": 41,
   "metadata": {},
   "outputs": [
    {
     "name": "stdout",
     "output_type": "stream",
     "text": [
      "\n",
      "Readability comparison:\n",
      "Gemini 1 - FOG: 8.21, Dale-Chall: 10.19\n",
      "Gemini 2 - FOG: 8.47, Dale-Chall: 10.06\n",
      "Gemini 3 - FOG: 11.03, Dale-Chall: 8.97\n"
     ]
    }
   ],
   "source": [
    "# second, compare them by the readabilities\n",
    "print(\"\\nReadability comparison:\")\n",
    "print(f\"Gemini 1 - FOG: {g1['fog']:.2f}, Dale-Chall: {g1['dale_chall']:.2f}\")\n",
    "print(f\"Gemini 2 - FOG: {g2['fog']:.2f}, Dale-Chall: {g2['dale_chall']:.2f}\")\n",
    "print(f\"Gemini 3 - FOG: {g3['fog']:.2f}, Dale-Chall: {g3['dale_chall']:.2f}\")"
   ]
  },
  {
   "cell_type": "code",
   "execution_count": 42,
   "metadata": {},
   "outputs": [
    {
     "name": "stdout",
     "output_type": "stream",
     "text": [
      "\n",
      "Overall scores:\n",
      "Gemini 1: 18.85\n",
      "Gemini 2: 19.00\n",
      "Gemini 3: 20.24\n"
     ]
    }
   ],
   "source": [
    "# sum the three measures to find the winner\n",
    "g1_score = g1['pos_ratio']['ratio'] + g1['fog'] + g1['dale_chall']\n",
    "g2_score = g2['pos_ratio']['ratio'] + g2['fog'] + g2['dale_chall']\n",
    "g3_score = g3['pos_ratio']['ratio'] + g3['fog'] + g3['dale_chall']\n",
    "\n",
    "print(\"\\nOverall scores:\")\n",
    "print(f\"Gemini 1: {g1_score:.2f}\")\n",
    "print(f\"Gemini 2: {g2_score:.2f}\")\n",
    "print(f\"Gemini 3: {g3_score:.2f}\")"
   ]
  },
  {
   "cell_type": "code",
   "execution_count": 56,
   "metadata": {},
   "outputs": [
    {
     "name": "stdout",
     "output_type": "stream",
     "text": [
      "\n",
      "Best story:\n",
      "Score: 8.99\n",
      "Nikolai, a young laborer from Petrograd, had been swept up in the fervor of the revolution. His heart swelled with the promise of a worker's paradise, and he found himself fighting alongside the Red Army during the Estonian War of Independence. The harsh Estonian winter chilled him to the bone as he patrolled the snowy forests, rifle clutched in his numb hands. He missed his family dearly, but the dream of a brighter future for them fueled his determination. Each gunshot echoed through the trees, a grim reminder of the cost of their ideals. Yet, doubt gnawed at Nikolai's mind as he witnessed the brutality of war and the suffering it inflicted on both sides. The dream of a worker's paradise seemed to fade with each fallen comrade, leaving him questioning if the fight was truly worth the sacrifice. \n",
      "\n",
      "Simplest story:\n",
      "Score: 4.83\n",
      "Sergei gripped his rifle, the cold metal biting into his calloused hands. The Estonian forest was a labyrinth of shadows, the air thick with the scent of pine and the metallic tang of blood. He was a Red Rifleman, a Bolshevik fighting for the revolution, yet his heart ached for his Latvian home. Every crack of a twig, every rustle of leaves sent a jolt of fear through him, a fear he masked with a stoic face. He believed in the cause, in the promise of a new world, but the relentless march of death and the sight of young men, barely out of boyhood, falling to Estonian bullets, gnawed at his resolve. The echo of gunfire shattered the silence, a chilling reminder that the fight for independence raged on, and he was but a pawn in a bloody game.\n"
     ]
    }
   ],
   "source": [
    "# collect all the gemini stories\n",
    "\n",
    "geminis = [gemini1, gemini2, gemini3, gemini4, gemini5, gemini6]\n",
    "\n",
    "# find the one with the highest and lowest sum score\n",
    "scores = [analyze_text(gemini) for gemini in geminis]\n",
    "sum_scores = [score['pos_ratio']['ratio'] * (score['fog'] + score['dale_chall']) for score in scores]\n",
    "\n",
    "# find the highest score and print the score and the story, then repeat for the lowest score\n",
    "max_score = max(sum_scores)\n",
    "min_score = min(sum_scores)\n",
    "\n",
    "max_index = sum_scores.index(max_score)\n",
    "min_index = sum_scores.index(min_score)\n",
    "\n",
    "print(\"\\nBest story:\")\n",
    "print(f\"Score: {max_score:.2f}\")\n",
    "print(geminis[max_index])\n",
    "\n",
    "print(\"\\nSimplest story:\")\n",
    "print(f\"Score: {min_score:.2f}\")\n",
    "print(geminis[min_index])\n"
   ]
  },
  {
   "cell_type": "code",
   "execution_count": 57,
   "metadata": {},
   "outputs": [
    {
     "name": "stdout",
     "output_type": "stream",
     "text": [
      "\n",
      "Reversion score: 9.203571428571427\n"
     ]
    }
   ],
   "source": [
    "reversion = \"\"\"Nikolai gripped his Mosin-Nagant nto his gloveless hands. The Estonian snow crunched under his boots and he advanced with his Red Army comrades. He believed in the cause. Yet, as they neared the Estonian lines, doubt crept in. The faces of the \"enemy\" were not so different from his own - young men, scared and shivering. A stray bullet whizzed past, and snapped him back to reality. He raised his rifle and squeezed the trigger, the deafening roar covering the turmoil.\"\"\"\n",
    "# score this\n",
    "reversion_score = analyze_text(reversion)\n",
    "# compute the sum score\n",
    "reversion_sum_score = reversion_score['pos_ratio']['ratio'] * (reversion_score['fog'] + reversion_score['dale_chall'])\n",
    "print(\"\\nReversion score:\", reversion_sum_score)"
   ]
  },
  {
   "cell_type": "code",
   "execution_count": 58,
   "metadata": {},
   "outputs": [
    {
     "name": "stdout",
     "output_type": "stream",
     "text": [
      "\n",
      "Hemingway score: 18.21333333333333\n"
     ]
    }
   ],
   "source": [
    "hemingway = \"\"\" That night at the hotel, in our room with the long empty hall outside and our shoes outside the door, a thick carpet on the floor of the room, outside the windows the rain falling and in the room light and pleasant and cheerful, then the light out and it exciting with smooth sheets and the bed comfortable, feeling that we had come home, feeling no longer alone, waking in the night to find the other one there, and not gone away; all other things were unreal. We slept when we were tired and if we woke the other one woke so no one was not alone. Often a man wishes to be alone and a girl wishes to be alone too and if they love each other they are jealous of that in each other, but I can truly say we never felt that. \"\"\"\n",
    "# score this\n",
    "hemingway_score = analyze_text(hemingway)\n",
    "# compute the sum score\n",
    "hemingway_sum_score = hemingway_score['pos_ratio']['ratio'] * (hemingway_score['fog'] + hemingway_score['dale_chall'])\n",
    "print(\"\\nHemingway score:\", hemingway_sum_score)"
   ]
  },
  {
   "cell_type": "code",
   "execution_count": 59,
   "metadata": {},
   "outputs": [
    {
     "name": "stdout",
     "output_type": "stream",
     "text": [
      "{'happy': 0.5719, 'sad': -0.4767, 'joyful': 0.5994, 'miserable': -0.4939, 'victorious': 0.0, 'defeated': -0.4767}\n"
     ]
    }
   ],
   "source": [
    "# Ok now, I want to do sentiment analysis at the word level, using VADER's dictionary\n",
    "\n",
    "from nltk.sentiment.vader import SentimentIntensityAnalyzer\n",
    "\n",
    "def analyze_sentiment(words):\n",
    "    # Initialize the VADER sentiment analyzer\n",
    "    analyzer = SentimentIntensityAnalyzer()\n",
    "    \n",
    "    # Analyze the sentiment of each word\n",
    "    word_sentiments = {word: analyzer.polarity_scores(word)['compound'] for word in words}\n",
    "    \n",
    "    return word_sentiments\n",
    "\n",
    "# Example usage\n",
    "words = [\"happy\", \"sad\", \"joyful\", \"miserable\", \"victorious\", \"defeated\"]\n",
    "\n",
    "sentiments = analyze_sentiment(words)\n",
    "print(sentiments)"
   ]
  },
  {
   "cell_type": "code",
   "execution_count": 68,
   "metadata": {},
   "outputs": [
    {
     "name": "stdout",
     "output_type": "stream",
     "text": [
      "{'pos_ratio': {'noun_count': 5, 'adjective_count': 3, 'verb_count': 3, 'ratio': 0.375}, 'fog': 10.46, 'dale_chall': 9.63, 'sentiment_std': 0.21995514729368723, 'mean_sentiment': 0.0982611111111111}\n"
     ]
    }
   ],
   "source": [
    "# integrate this into the analyze_text function\n",
    "import numpy as np\n",
    "def analyze_text(text):\n",
    "\n",
    "    words = word_tokenize(text)\n",
    "    # Calculate the (nouns + adjectives) / verbs ratio\n",
    "    pos_ratio = calculate_pos_ratio(words)\n",
    "    \n",
    "    # Compute the FOG and Dale-Chall readability scores\n",
    "    fog = textstat.gunning_fog(text)\n",
    "    dale_chall = textstat.dale_chall_readability_score(text)\n",
    "    \n",
    "    word_sentiments = analyze_sentiment(words)\n",
    "    sentiments =list(word_sentiments.values())\n",
    "\n",
    "    # std of the sentiments\n",
    "    sentiment_std = np.std(sentiments)\n",
    "    mean = np.mean(sentiments)\n",
    "    \n",
    "    return {\n",
    "        'pos_ratio': pos_ratio,\n",
    "        'fog': fog,\n",
    "        'dale_chall': dale_chall,\n",
    "        'sentiment_std': sentiment_std,\n",
    "        'mean_sentiment': mean\n",
    "    }\n",
    "\n",
    "# Example usage\n",
    "text = \"\"\"Your text goes here. This is an example text to demonstrate the great, wonderful, perfect readability analysis.\"\"\"\n",
    "\n",
    "result = analyze_text(text)\n",
    "print(result)"
   ]
  },
  {
   "cell_type": "code",
   "execution_count": 73,
   "metadata": {},
   "outputs": [],
   "source": [
    "for score in scores:\n",
    "    score['mean_sentiment']"
   ]
  },
  {
   "cell_type": "code",
   "execution_count": 104,
   "metadata": {},
   "outputs": [],
   "source": [
    "# let's make a function that takes a score output and combines it into a single number\n",
    "def score_text(score):\n",
    "    style_number = score['pos_ratio']['ratio'] * (score['fog'] + score['dale_chall'])\n",
    "    sentiment_number = score['mean_sentiment'] + score['sentiment_std']\n",
    "    return style_number + sentiment_number"
   ]
  },
  {
   "cell_type": "code",
   "execution_count": 105,
   "metadata": {},
   "outputs": [
    {
     "name": "stdout",
     "output_type": "stream",
     "text": [
      "\n",
      "Best story:\n",
      "Score: -0.02\n",
      "Sergei gripped his rifle, the cold metal biting into his calloused hands. The Estonian forest was a labyrinth of shadows, the air thick with the scent of pine and the metallic tang of blood. He was a Red Rifleman, a Bolshevik fighting for the revolution, yet his heart ached for his Latvian home. Every crack of a twig, every rustle of leaves sent a jolt of fear through him, a fear he masked with a stoic face. He believed in the cause, in the promise of a new world, but the relentless march of death and the sight of young men, barely out of boyhood, falling to Estonian bullets, gnawed at his resolve. The echo of gunfire shattered the silence, a chilling reminder that the fight for independence raged on, and he was but a pawn in a bloody game.\n",
      "\n",
      "Simplest story:\n",
      "Score: -0.04\n",
      "Nikolai, a young laborer from Petrograd, had been swept up in the fervor of the revolution. His heart swelled with the promise of a worker's paradise, and he found himself fighting alongside the Red Army during the Estonian War of Independence. The harsh Estonian winter chilled him to the bone as he patrolled the snowy forests, rifle clutched in his numb hands. He missed his family dearly, but the dream of a brighter future for them fueled his determination. Each gunshot echoed through the trees, a grim reminder of the cost of their ideals. Yet, doubt gnawed at Nikolai's mind as he witnessed the brutality of war and the suffering it inflicted on both sides. The dream of a worker's paradise seemed to fade with each fallen comrade, leaving him questioning if the fight was truly worth the sacrifice. \n"
     ]
    }
   ],
   "source": [
    "# goooood chilly good.\n",
    "# now let's recompute the average score of the gemini stories\n",
    "scores = [analyze_text(gemini) for gemini in geminis]\n",
    "sum_scores = [score_text(score) for score in scores]\n",
    "\n",
    "# find the highest score and print the score and the story, then repeat for the lowest score\n",
    "max_score = max(sum_scores)\n",
    "min_score = min(sum_scores)\n",
    "\n",
    "max_index = sum_scores.index(max_score)\n",
    "min_index = sum_scores.index(min_score)\n",
    "\n",
    "print(\"\\nBest story:\")\n",
    "print(f\"Score: {max_score:.2f}\")\n",
    "print(geminis[max_index])\n",
    "\n",
    "print(\"\\nSimplest story:\")\n",
    "print(f\"Score: {min_score:.2f}\")\n",
    "print(geminis[min_index])\n"
   ]
  },
  {
   "cell_type": "code",
   "execution_count": 106,
   "metadata": {},
   "outputs": [
    {
     "name": "stdout",
     "output_type": "stream",
     "text": [
      "\n",
      "Reversion score: -0.02656021659536731\n",
      "\n",
      "Hemingway score: 0.05483363502490999\n"
     ]
    }
   ],
   "source": [
    "## compare the reversion and hemingway stories\n",
    "reversion_score = analyze_text(reversion)\n",
    "hemingway_score = analyze_text(hemingway)\n",
    "\n",
    "reversion_number = score_text(reversion_score)\n",
    "hemingway_number = score_text(hemingway_score)\n",
    "\n",
    "print(\"\\nReversion score:\", reversion_number)\n",
    "print(\"\\nHemingway score:\", hemingway_number)"
   ]
  },
  {
   "cell_type": "code",
   "execution_count": null,
   "metadata": {},
   "outputs": [],
   "source": []
  }
 ],
 "metadata": {
  "kernelspec": {
   "display_name": "tensorflow",
   "language": "python",
   "name": "python3"
  },
  "language_info": {
   "codemirror_mode": {
    "name": "ipython",
    "version": 3
   },
   "file_extension": ".py",
   "mimetype": "text/x-python",
   "name": "python",
   "nbconvert_exporter": "python",
   "pygments_lexer": "ipython3",
   "version": "3.9.5"
  }
 },
 "nbformat": 4,
 "nbformat_minor": 2
}
